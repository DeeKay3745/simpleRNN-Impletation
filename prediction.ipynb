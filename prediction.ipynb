{
 "cells": [
  {
   "cell_type": "code",
   "execution_count": 16,
   "id": "dbb77cf6",
   "metadata": {},
   "outputs": [],
   "source": [
    "import numpy as np\n",
    "import tensorflow as tf\n",
    "from tensorflow.keras.datasets import imdb\n",
    "from tensorflow.keras.preprocessing import sequence\n",
    "from tensorflow.keras.models import load_model\n"
   ]
  },
  {
   "cell_type": "code",
   "execution_count": 17,
   "id": "52201370",
   "metadata": {},
   "outputs": [],
   "source": [
    "#load the word index from IMDB dataset\n",
    "word_index = imdb.get_word_index()\n",
    "reverse_word_index = {value: key for key, value in word_index.items()}"
   ]
  },
  {
   "cell_type": "code",
   "execution_count": 18,
   "id": "f784fd69",
   "metadata": {},
   "outputs": [
    {
     "name": "stderr",
     "output_type": "stream",
     "text": [
      "WARNING:absl:Compiled the loaded model, but the compiled metrics have yet to be built. `model.compile_metrics` will be empty until you train or evaluate the model.\n"
     ]
    }
   ],
   "source": [
    "#load the pre-trained model with ReLU activation\n",
    "model = load_model('simpleRNN_imdb.h5')"
   ]
  },
  {
   "cell_type": "code",
   "execution_count": 19,
   "id": "15c643a9",
   "metadata": {},
   "outputs": [
    {
     "data": {
      "text/html": [
       "<pre style=\"white-space:pre;overflow-x:auto;line-height:normal;font-family:Menlo,'DejaVu Sans Mono',consolas,'Courier New',monospace\"><span style=\"font-weight: bold\">Model: \"sequential\"</span>\n",
       "</pre>\n"
      ],
      "text/plain": [
       "\u001b[1mModel: \"sequential\"\u001b[0m\n"
      ]
     },
     "metadata": {},
     "output_type": "display_data"
    },
    {
     "data": {
      "text/html": [
       "<pre style=\"white-space:pre;overflow-x:auto;line-height:normal;font-family:Menlo,'DejaVu Sans Mono',consolas,'Courier New',monospace\">┏━━━━━━━━━━━━━━━━━━━━━━━━━━━━━━━━━┳━━━━━━━━━━━━━━━━━━━━━━━━┳━━━━━━━━━━━━━━━┓\n",
       "┃<span style=\"font-weight: bold\"> Layer (type)                    </span>┃<span style=\"font-weight: bold\"> Output Shape           </span>┃<span style=\"font-weight: bold\">       Param # </span>┃\n",
       "┡━━━━━━━━━━━━━━━━━━━━━━━━━━━━━━━━━╇━━━━━━━━━━━━━━━━━━━━━━━━╇━━━━━━━━━━━━━━━┩\n",
       "│ embedding (<span style=\"color: #0087ff; text-decoration-color: #0087ff\">Embedding</span>)           │ (<span style=\"color: #00d7ff; text-decoration-color: #00d7ff\">None</span>, <span style=\"color: #00af00; text-decoration-color: #00af00\">128</span>, <span style=\"color: #00af00; text-decoration-color: #00af00\">128</span>)       │     <span style=\"color: #00af00; text-decoration-color: #00af00\">1,280,000</span> │\n",
       "├─────────────────────────────────┼────────────────────────┼───────────────┤\n",
       "│ simple_rnn (<span style=\"color: #0087ff; text-decoration-color: #0087ff\">SimpleRNN</span>)          │ (<span style=\"color: #00d7ff; text-decoration-color: #00d7ff\">None</span>, <span style=\"color: #00af00; text-decoration-color: #00af00\">128</span>)            │        <span style=\"color: #00af00; text-decoration-color: #00af00\">32,896</span> │\n",
       "├─────────────────────────────────┼────────────────────────┼───────────────┤\n",
       "│ dense (<span style=\"color: #0087ff; text-decoration-color: #0087ff\">Dense</span>)                   │ (<span style=\"color: #00d7ff; text-decoration-color: #00d7ff\">None</span>, <span style=\"color: #00af00; text-decoration-color: #00af00\">1</span>)              │           <span style=\"color: #00af00; text-decoration-color: #00af00\">129</span> │\n",
       "└─────────────────────────────────┴────────────────────────┴───────────────┘\n",
       "</pre>\n"
      ],
      "text/plain": [
       "┏━━━━━━━━━━━━━━━━━━━━━━━━━━━━━━━━━┳━━━━━━━━━━━━━━━━━━━━━━━━┳━━━━━━━━━━━━━━━┓\n",
       "┃\u001b[1m \u001b[0m\u001b[1mLayer (type)                   \u001b[0m\u001b[1m \u001b[0m┃\u001b[1m \u001b[0m\u001b[1mOutput Shape          \u001b[0m\u001b[1m \u001b[0m┃\u001b[1m \u001b[0m\u001b[1m      Param #\u001b[0m\u001b[1m \u001b[0m┃\n",
       "┡━━━━━━━━━━━━━━━━━━━━━━━━━━━━━━━━━╇━━━━━━━━━━━━━━━━━━━━━━━━╇━━━━━━━━━━━━━━━┩\n",
       "│ embedding (\u001b[38;5;33mEmbedding\u001b[0m)           │ (\u001b[38;5;45mNone\u001b[0m, \u001b[38;5;34m128\u001b[0m, \u001b[38;5;34m128\u001b[0m)       │     \u001b[38;5;34m1,280,000\u001b[0m │\n",
       "├─────────────────────────────────┼────────────────────────┼───────────────┤\n",
       "│ simple_rnn (\u001b[38;5;33mSimpleRNN\u001b[0m)          │ (\u001b[38;5;45mNone\u001b[0m, \u001b[38;5;34m128\u001b[0m)            │        \u001b[38;5;34m32,896\u001b[0m │\n",
       "├─────────────────────────────────┼────────────────────────┼───────────────┤\n",
       "│ dense (\u001b[38;5;33mDense\u001b[0m)                   │ (\u001b[38;5;45mNone\u001b[0m, \u001b[38;5;34m1\u001b[0m)              │           \u001b[38;5;34m129\u001b[0m │\n",
       "└─────────────────────────────────┴────────────────────────┴───────────────┘\n"
      ]
     },
     "metadata": {},
     "output_type": "display_data"
    },
    {
     "data": {
      "text/html": [
       "<pre style=\"white-space:pre;overflow-x:auto;line-height:normal;font-family:Menlo,'DejaVu Sans Mono',consolas,'Courier New',monospace\"><span style=\"font-weight: bold\"> Total params: </span><span style=\"color: #00af00; text-decoration-color: #00af00\">1,313,027</span> (5.01 MB)\n",
       "</pre>\n"
      ],
      "text/plain": [
       "\u001b[1m Total params: \u001b[0m\u001b[38;5;34m1,313,027\u001b[0m (5.01 MB)\n"
      ]
     },
     "metadata": {},
     "output_type": "display_data"
    },
    {
     "data": {
      "text/html": [
       "<pre style=\"white-space:pre;overflow-x:auto;line-height:normal;font-family:Menlo,'DejaVu Sans Mono',consolas,'Courier New',monospace\"><span style=\"font-weight: bold\"> Trainable params: </span><span style=\"color: #00af00; text-decoration-color: #00af00\">1,313,025</span> (5.01 MB)\n",
       "</pre>\n"
      ],
      "text/plain": [
       "\u001b[1m Trainable params: \u001b[0m\u001b[38;5;34m1,313,025\u001b[0m (5.01 MB)\n"
      ]
     },
     "metadata": {},
     "output_type": "display_data"
    },
    {
     "data": {
      "text/html": [
       "<pre style=\"white-space:pre;overflow-x:auto;line-height:normal;font-family:Menlo,'DejaVu Sans Mono',consolas,'Courier New',monospace\"><span style=\"font-weight: bold\"> Non-trainable params: </span><span style=\"color: #00af00; text-decoration-color: #00af00\">0</span> (0.00 B)\n",
       "</pre>\n"
      ],
      "text/plain": [
       "\u001b[1m Non-trainable params: \u001b[0m\u001b[38;5;34m0\u001b[0m (0.00 B)\n"
      ]
     },
     "metadata": {},
     "output_type": "display_data"
    },
    {
     "data": {
      "text/html": [
       "<pre style=\"white-space:pre;overflow-x:auto;line-height:normal;font-family:Menlo,'DejaVu Sans Mono',consolas,'Courier New',monospace\"><span style=\"font-weight: bold\"> Optimizer params: </span><span style=\"color: #00af00; text-decoration-color: #00af00\">2</span> (12.00 B)\n",
       "</pre>\n"
      ],
      "text/plain": [
       "\u001b[1m Optimizer params: \u001b[0m\u001b[38;5;34m2\u001b[0m (12.00 B)\n"
      ]
     },
     "metadata": {},
     "output_type": "display_data"
    }
   ],
   "source": [
    "model.summary()"
   ]
  },
  {
   "cell_type": "code",
   "execution_count": 20,
   "id": "27709344",
   "metadata": {},
   "outputs": [
    {
     "data": {
      "text/plain": [
       "[array([[-0.33972698, -0.14660129, -0.28570524, ...,  0.22332898,\n",
       "         -0.3298011 ,  0.38220692],\n",
       "        [-0.05956493, -0.06464948, -0.04806302, ...,  0.06769267,\n",
       "         -0.0515356 ,  0.07754862],\n",
       "        [-0.04607051,  0.12401069, -0.02804186, ..., -0.01441915,\n",
       "         -0.02719506,  0.10570506],\n",
       "        ...,\n",
       "        [-0.04108743, -0.06267031, -0.08896815, ...,  0.08212195,\n",
       "         -0.09035726,  0.05021516],\n",
       "        [ 0.10724671,  0.05555524,  0.05246003, ..., -0.11288977,\n",
       "          0.04411901,  0.0431744 ],\n",
       "        [-0.10815478, -0.03833301, -0.10021621, ...,  0.04997356,\n",
       "          0.04702548,  0.09883453]], dtype=float32),\n",
       " array([[ 0.1254169 , -0.03629096,  0.10757133, ...,  0.02137016,\n",
       "          0.11510996,  0.18033442],\n",
       "        [ 0.1166867 ,  0.06720289, -0.0545347 , ..., -0.11401045,\n",
       "         -0.07640665, -0.140817  ],\n",
       "        [ 0.21207495,  0.08240971,  0.00399746, ..., -0.13710044,\n",
       "          0.09600829,  0.19438873],\n",
       "        ...,\n",
       "        [-0.01602052,  0.01546447,  0.1173999 , ...,  0.04161598,\n",
       "          0.12599145,  0.11863174],\n",
       "        [ 0.22725825,  0.09357865,  0.08714278, ..., -0.03540667,\n",
       "          0.08220412,  0.07272793],\n",
       "        [-0.13795795, -0.19679427, -0.04558445, ...,  0.1431902 ,\n",
       "         -0.06559438, -0.23563883]], dtype=float32),\n",
       " array([[-0.13430859, -0.18899709,  0.14733171, ..., -0.0821208 ,\n",
       "          0.00206045,  0.02157809],\n",
       "        [ 0.1444203 , -0.15323818,  0.10515358, ...,  0.03153879,\n",
       "         -0.00311869,  0.15577331],\n",
       "        [ 0.00918547,  0.0665315 , -0.02242914, ..., -0.01359176,\n",
       "         -0.00551966,  0.10049998],\n",
       "        ...,\n",
       "        [ 0.11627313, -0.13541356, -0.00195597, ...,  0.02877139,\n",
       "         -0.04201018, -0.14905474],\n",
       "        [ 0.07768141, -0.043376  ,  0.03214691, ...,  0.0073016 ,\n",
       "         -0.08696673,  0.03478988],\n",
       "        [-0.09290683,  0.04481642, -0.04797684, ...,  0.05827111,\n",
       "          0.2161149 , -0.20091978]], dtype=float32),\n",
       " array([ 3.96591239e-03, -4.30917889e-02, -1.80383045e-02, -1.06202131e-02,\n",
       "        -2.39159297e-02, -3.66602801e-02, -3.86754759e-02, -3.10158003e-02,\n",
       "        -1.25986468e-02, -2.46358551e-02, -1.85592510e-02, -1.46921696e-02,\n",
       "         1.75609794e-02, -1.37711214e-02,  5.01216576e-02,  4.98745441e-02,\n",
       "         2.02533677e-02,  3.16652581e-02, -6.46863431e-02, -3.46874185e-02,\n",
       "         1.73360892e-02, -2.34037694e-02,  2.98891757e-02, -1.65603850e-02,\n",
       "         1.02798715e-02, -9.78704449e-03,  2.07473673e-02, -3.97802591e-02,\n",
       "         1.05618443e-02, -2.03045234e-02,  3.38927954e-02,  8.86035711e-03,\n",
       "         1.90376118e-02,  2.53571576e-04,  6.18731454e-02,  2.84779817e-03,\n",
       "        -2.71006972e-02, -2.69890409e-02, -2.93434244e-02,  3.29122283e-02,\n",
       "        -3.55885625e-02,  5.85257001e-02, -2.25237720e-02,  1.76881123e-02,\n",
       "         2.90311798e-02, -6.31789444e-03,  3.39062288e-02,  2.52593718e-02,\n",
       "         1.22646270e-02, -4.99493442e-02, -3.46905440e-02, -4.87028016e-03,\n",
       "         1.34809231e-02,  5.52978218e-02, -6.56621112e-03,  3.00872922e-02,\n",
       "         2.32922845e-02,  3.13169919e-02, -2.93138437e-02,  5.15917279e-02,\n",
       "         5.20030670e-02, -1.42446784e-02, -3.40844132e-02, -1.70445554e-02,\n",
       "        -5.71920723e-02,  6.87059807e-03,  4.81417850e-02,  3.73856202e-02,\n",
       "        -2.41302210e-03,  9.45593696e-03,  2.29625553e-02, -3.20650265e-02,\n",
       "        -5.60486987e-02, -2.84406804e-02, -6.57878071e-02, -1.94353331e-02,\n",
       "        -4.25064890e-03,  2.51337662e-02, -8.69246721e-02, -2.55743172e-02,\n",
       "        -2.56371740e-02, -1.55075854e-02,  4.96981256e-02, -1.74139719e-02,\n",
       "         5.22417761e-02,  5.67887537e-02, -3.72511819e-02,  5.22551648e-02,\n",
       "        -1.01526519e-02,  5.19449823e-03, -3.52239348e-02, -1.91099383e-02,\n",
       "         9.64846238e-02,  1.97093356e-02, -8.40058737e-03, -5.28738685e-02,\n",
       "         1.43164862e-05,  2.48454437e-02, -3.83658446e-02, -7.90352467e-04,\n",
       "        -2.48340219e-02, -4.05469425e-02,  2.08338853e-02, -2.49797702e-02,\n",
       "         2.93168589e-03, -5.04258182e-03, -8.24006740e-03,  6.10822700e-02,\n",
       "        -5.34268841e-02, -4.36249077e-02, -1.42051727e-02, -4.01402190e-02,\n",
       "        -2.64646970e-02,  4.63740341e-02, -2.97137499e-02, -2.87470408e-02,\n",
       "         2.99660321e-02, -2.81506572e-02,  9.22780018e-03,  1.80226211e-02,\n",
       "         1.73417944e-03, -2.88627129e-02, -1.19887497e-02, -3.41148041e-02,\n",
       "         4.01484556e-02, -1.28802732e-02, -2.75523551e-02, -1.84949543e-02],\n",
       "       dtype=float32),\n",
       " array([[-0.12593   ],\n",
       "        [-0.12014136],\n",
       "        [-0.18366176],\n",
       "        [-0.22050656],\n",
       "        [-0.1639232 ],\n",
       "        [ 0.44477233],\n",
       "        [ 0.00550306],\n",
       "        [-0.10984187],\n",
       "        [-0.6113093 ],\n",
       "        [ 0.20226608],\n",
       "        [ 0.2901834 ],\n",
       "        [ 0.00278616],\n",
       "        [-0.351208  ],\n",
       "        [-0.6801382 ],\n",
       "        [-0.02667693],\n",
       "        [ 0.18798254],\n",
       "        [-0.37715805],\n",
       "        [ 0.27293918],\n",
       "        [-0.23502116],\n",
       "        [-0.11974593],\n",
       "        [-0.01444742],\n",
       "        [-0.10930735],\n",
       "        [ 0.51642233],\n",
       "        [-0.05803599],\n",
       "        [-0.10705741],\n",
       "        [-0.29939398],\n",
       "        [-0.27854756],\n",
       "        [-0.18270034],\n",
       "        [-0.12214928],\n",
       "        [-0.22209546],\n",
       "        [ 0.11630931],\n",
       "        [-0.16749364],\n",
       "        [-0.03117602],\n",
       "        [ 0.01272549],\n",
       "        [ 0.09834086],\n",
       "        [-0.1171824 ],\n",
       "        [-0.18250881],\n",
       "        [ 0.18344538],\n",
       "        [-0.04767127],\n",
       "        [-0.27074462],\n",
       "        [ 0.10068536],\n",
       "        [ 0.94132847],\n",
       "        [-0.19672742],\n",
       "        [ 0.12661287],\n",
       "        [ 0.28961375],\n",
       "        [ 0.16100268],\n",
       "        [-0.1025029 ],\n",
       "        [ 0.01688215],\n",
       "        [ 0.2656319 ],\n",
       "        [-0.15436168],\n",
       "        [ 0.20212975],\n",
       "        [-0.1797633 ],\n",
       "        [-0.3035805 ],\n",
       "        [ 0.3651616 ],\n",
       "        [-0.051471  ],\n",
       "        [ 0.07516082],\n",
       "        [ 0.06769793],\n",
       "        [ 0.03584752],\n",
       "        [-0.3586693 ],\n",
       "        [ 0.11384547],\n",
       "        [-0.45049387],\n",
       "        [-0.13065182],\n",
       "        [-0.20311351],\n",
       "        [-0.16200492],\n",
       "        [ 0.04901015],\n",
       "        [ 0.05665357],\n",
       "        [-0.23378341],\n",
       "        [-0.10095361],\n",
       "        [ 0.17510429],\n",
       "        [-0.17322452],\n",
       "        [ 0.03111839],\n",
       "        [-0.17833324],\n",
       "        [-0.09062327],\n",
       "        [ 0.01631459],\n",
       "        [ 0.12975901],\n",
       "        [-0.06560935],\n",
       "        [-0.02272265],\n",
       "        [-0.525248  ],\n",
       "        [ 0.0771467 ],\n",
       "        [ 0.5268376 ],\n",
       "        [-0.07579004],\n",
       "        [-0.16791478],\n",
       "        [-0.140299  ],\n",
       "        [-0.13514458],\n",
       "        [-0.13260001],\n",
       "        [ 0.53752345],\n",
       "        [-0.16769724],\n",
       "        [-0.2031473 ],\n",
       "        [-0.10375692],\n",
       "        [ 0.06562579],\n",
       "        [-0.08527617],\n",
       "        [ 0.08349251],\n",
       "        [ 0.7765171 ],\n",
       "        [-0.17134386],\n",
       "        [-0.11781759],\n",
       "        [ 0.07837843],\n",
       "        [ 0.12336741],\n",
       "        [-0.5743796 ],\n",
       "        [-0.15722959],\n",
       "        [-0.12050258],\n",
       "        [ 0.14429903],\n",
       "        [ 0.03386934],\n",
       "        [ 0.29152355],\n",
       "        [ 0.35618812],\n",
       "        [ 0.06700682],\n",
       "        [ 0.32118326],\n",
       "        [-0.04869308],\n",
       "        [-0.01308531],\n",
       "        [ 0.19836967],\n",
       "        [-0.36651975],\n",
       "        [ 0.291568  ],\n",
       "        [-0.21973982],\n",
       "        [ 0.11524211],\n",
       "        [-0.21219392],\n",
       "        [-0.12991892],\n",
       "        [ 0.00148797],\n",
       "        [-0.06169241],\n",
       "        [-0.12549074],\n",
       "        [ 0.17894809],\n",
       "        [ 0.97913826],\n",
       "        [-0.12844563],\n",
       "        [ 0.21426345],\n",
       "        [-0.15593646],\n",
       "        [ 0.0568801 ],\n",
       "        [ 0.44701093],\n",
       "        [ 0.09157012],\n",
       "        [ 0.5559363 ],\n",
       "        [-0.1569164 ]], dtype=float32),\n",
       " array([-0.6761632], dtype=float32)]"
      ]
     },
     "execution_count": 20,
     "metadata": {},
     "output_type": "execute_result"
    }
   ],
   "source": [
    "model.get_weights()"
   ]
  },
  {
   "cell_type": "code",
   "execution_count": 21,
   "id": "f911bb1e",
   "metadata": {},
   "outputs": [],
   "source": [
    " #step2:Helper Functions\n",
    "\n",
    "#function to decode reviews\n",
    "def decode_rewiew(encoded_review):\n",
    "    return ' '.join([reverse_word_index.get(i-3,'?') for i in encoded_review])\n",
    "\n",
    "#function to preprocess user input\n",
    "def preprocess_text(text):\n",
    "    words = text.lower().split()\n",
    "    encoded_review = [word_index.get(word,2)+3 for word in words]\n",
    "    padded_review = sequence.pad_sequences([encoded_review], maxlen=500)\n",
    "    return padded_review"
   ]
  },
  {
   "cell_type": "code",
   "execution_count": 22,
   "id": "eaeefbb4",
   "metadata": {},
   "outputs": [],
   "source": [
    "#predictionfunction\n",
    "def predict_sentiment(review):\n",
    "    preprocess_input=preprocess_text(review)\n",
    "    pred =model.predict(preprocess_input)\n",
    "    sentiment = \"+ve\" if pred[0][0]>0.5 else \"-ve\"\n",
    "    return sentiment, pred[0][0]"
   ]
  },
  {
   "cell_type": "code",
   "execution_count": 29,
   "id": "91130930",
   "metadata": {},
   "outputs": [],
   "source": [
    "#step 4:User Input and prediction\n",
    "\n",
    "ex = \" I was really disappointed with this movie. The plot felt predictable and dragged on without much excitement. The acting was flat, and the characters didn’t feel believable. \"\n",
    "example=\"This movie was fantastic! The acting was great and the plot was thrilling.\""
   ]
  },
  {
   "cell_type": "code",
   "execution_count": 30,
   "id": "308a13bd",
   "metadata": {},
   "outputs": [
    {
     "name": "stderr",
     "output_type": "stream",
     "text": [
      "2025-07-27 16:50:14.105384: I tensorflow/core/framework/local_rendezvous.cc:407] Local rendezvous is aborting with status: INVALID_ARGUMENT: indices[0,497] = 88131 is not in [0, 10000)\n",
      "\t [[{{node sequential_1/embedding_1/GatherV2}}]]\n"
     ]
    },
    {
     "ename": "InvalidArgumentError",
     "evalue": "Graph execution error:\n\nDetected at node sequential_1/embedding_1/GatherV2 defined at (most recent call last):\n  File \"<frozen runpy>\", line 198, in _run_module_as_main\n\n  File \"<frozen runpy>\", line 88, in _run_code\n\n  File \"/Users/dhaneshkumarkapadia/Desktop/LLMs/ANN/ANN-project-Implementation/venv/lib/python3.11/site-packages/ipykernel_launcher.py\", line 18, in <module>\n\n  File \"/Users/dhaneshkumarkapadia/Desktop/LLMs/ANN/ANN-project-Implementation/venv/lib/python3.11/site-packages/traitlets/config/application.py\", line 1075, in launch_instance\n\n  File \"/Users/dhaneshkumarkapadia/Desktop/LLMs/ANN/ANN-project-Implementation/venv/lib/python3.11/site-packages/ipykernel/kernelapp.py\", line 739, in start\n\n  File \"/Users/dhaneshkumarkapadia/Desktop/LLMs/ANN/ANN-project-Implementation/venv/lib/python3.11/site-packages/tornado/platform/asyncio.py\", line 211, in start\n\n  File \"/Users/dhaneshkumarkapadia/Desktop/LLMs/ANN/ANN-project-Implementation/venv/lib/python3.11/asyncio/base_events.py\", line 604, in run_forever\n\n  File \"/Users/dhaneshkumarkapadia/Desktop/LLMs/ANN/ANN-project-Implementation/venv/lib/python3.11/asyncio/base_events.py\", line 1909, in _run_once\n\n  File \"/Users/dhaneshkumarkapadia/Desktop/LLMs/ANN/ANN-project-Implementation/venv/lib/python3.11/asyncio/events.py\", line 80, in _run\n\n  File \"/Users/dhaneshkumarkapadia/Desktop/LLMs/ANN/ANN-project-Implementation/venv/lib/python3.11/site-packages/ipykernel/kernelbase.py\", line 516, in dispatch_queue\n\n  File \"/Users/dhaneshkumarkapadia/Desktop/LLMs/ANN/ANN-project-Implementation/venv/lib/python3.11/site-packages/ipykernel/kernelbase.py\", line 505, in process_one\n\n  File \"/Users/dhaneshkumarkapadia/Desktop/LLMs/ANN/ANN-project-Implementation/venv/lib/python3.11/site-packages/ipykernel/kernelbase.py\", line 397, in dispatch_shell\n\n  File \"/Users/dhaneshkumarkapadia/Desktop/LLMs/ANN/ANN-project-Implementation/venv/lib/python3.11/site-packages/ipykernel/ipkernel.py\", line 368, in execute_request\n\n  File \"/Users/dhaneshkumarkapadia/Desktop/LLMs/ANN/ANN-project-Implementation/venv/lib/python3.11/site-packages/ipykernel/kernelbase.py\", line 752, in execute_request\n\n  File \"/Users/dhaneshkumarkapadia/Desktop/LLMs/ANN/ANN-project-Implementation/venv/lib/python3.11/site-packages/ipykernel/ipkernel.py\", line 455, in do_execute\n\n  File \"/Users/dhaneshkumarkapadia/Desktop/LLMs/ANN/ANN-project-Implementation/venv/lib/python3.11/site-packages/ipykernel/zmqshell.py\", line 577, in run_cell\n\n  File \"/Users/dhaneshkumarkapadia/Desktop/LLMs/ANN/ANN-project-Implementation/venv/lib/python3.11/site-packages/IPython/core/interactiveshell.py\", line 3116, in run_cell\n\n  File \"/Users/dhaneshkumarkapadia/Desktop/LLMs/ANN/ANN-project-Implementation/venv/lib/python3.11/site-packages/IPython/core/interactiveshell.py\", line 3171, in _run_cell\n\n  File \"/Users/dhaneshkumarkapadia/Desktop/LLMs/ANN/ANN-project-Implementation/venv/lib/python3.11/site-packages/IPython/core/async_helpers.py\", line 128, in _pseudo_sync_runner\n\n  File \"/Users/dhaneshkumarkapadia/Desktop/LLMs/ANN/ANN-project-Implementation/venv/lib/python3.11/site-packages/IPython/core/interactiveshell.py\", line 3394, in run_cell_async\n\n  File \"/Users/dhaneshkumarkapadia/Desktop/LLMs/ANN/ANN-project-Implementation/venv/lib/python3.11/site-packages/IPython/core/interactiveshell.py\", line 3639, in run_ast_nodes\n\n  File \"/Users/dhaneshkumarkapadia/Desktop/LLMs/ANN/ANN-project-Implementation/venv/lib/python3.11/site-packages/IPython/core/interactiveshell.py\", line 3699, in run_code\n\n  File \"/var/folders/qp/67f2dsgs4cq3m5kvr0hq47y40000gn/T/ipykernel_4803/534451187.py\", line 1, in <module>\n\n  File \"/var/folders/qp/67f2dsgs4cq3m5kvr0hq47y40000gn/T/ipykernel_4803/655380144.py\", line 4, in predict_sentiment\n\n  File \"/Users/dhaneshkumarkapadia/Desktop/LLMs/ANN/ANN-project-Implementation/venv/lib/python3.11/site-packages/keras/src/utils/traceback_utils.py\", line 117, in error_handler\n\n  File \"/Users/dhaneshkumarkapadia/Desktop/LLMs/ANN/ANN-project-Implementation/venv/lib/python3.11/site-packages/keras/src/backend/tensorflow/trainer.py\", line 566, in predict\n\n  File \"/Users/dhaneshkumarkapadia/Desktop/LLMs/ANN/ANN-project-Implementation/venv/lib/python3.11/site-packages/keras/src/backend/tensorflow/trainer.py\", line 260, in one_step_on_data_distributed\n\n  File \"/Users/dhaneshkumarkapadia/Desktop/LLMs/ANN/ANN-project-Implementation/venv/lib/python3.11/site-packages/keras/src/backend/tensorflow/trainer.py\", line 250, in one_step_on_data\n\n  File \"/Users/dhaneshkumarkapadia/Desktop/LLMs/ANN/ANN-project-Implementation/venv/lib/python3.11/site-packages/keras/src/backend/tensorflow/trainer.py\", line 105, in predict_step\n\n  File \"/Users/dhaneshkumarkapadia/Desktop/LLMs/ANN/ANN-project-Implementation/venv/lib/python3.11/site-packages/keras/src/utils/traceback_utils.py\", line 117, in error_handler\n\n  File \"/Users/dhaneshkumarkapadia/Desktop/LLMs/ANN/ANN-project-Implementation/venv/lib/python3.11/site-packages/keras/src/layers/layer.py\", line 936, in __call__\n\n  File \"/Users/dhaneshkumarkapadia/Desktop/LLMs/ANN/ANN-project-Implementation/venv/lib/python3.11/site-packages/keras/src/utils/traceback_utils.py\", line 117, in error_handler\n\n  File \"/Users/dhaneshkumarkapadia/Desktop/LLMs/ANN/ANN-project-Implementation/venv/lib/python3.11/site-packages/keras/src/ops/operation.py\", line 58, in __call__\n\n  File \"/Users/dhaneshkumarkapadia/Desktop/LLMs/ANN/ANN-project-Implementation/venv/lib/python3.11/site-packages/keras/src/utils/traceback_utils.py\", line 156, in error_handler\n\n  File \"/Users/dhaneshkumarkapadia/Desktop/LLMs/ANN/ANN-project-Implementation/venv/lib/python3.11/site-packages/keras/src/models/sequential.py\", line 220, in call\n\n  File \"/Users/dhaneshkumarkapadia/Desktop/LLMs/ANN/ANN-project-Implementation/venv/lib/python3.11/site-packages/keras/src/models/functional.py\", line 183, in call\n\n  File \"/Users/dhaneshkumarkapadia/Desktop/LLMs/ANN/ANN-project-Implementation/venv/lib/python3.11/site-packages/keras/src/ops/function.py\", line 177, in _run_through_graph\n\n  File \"/Users/dhaneshkumarkapadia/Desktop/LLMs/ANN/ANN-project-Implementation/venv/lib/python3.11/site-packages/keras/src/models/functional.py\", line 648, in call\n\n  File \"/Users/dhaneshkumarkapadia/Desktop/LLMs/ANN/ANN-project-Implementation/venv/lib/python3.11/site-packages/keras/src/utils/traceback_utils.py\", line 117, in error_handler\n\n  File \"/Users/dhaneshkumarkapadia/Desktop/LLMs/ANN/ANN-project-Implementation/venv/lib/python3.11/site-packages/keras/src/layers/layer.py\", line 936, in __call__\n\n  File \"/Users/dhaneshkumarkapadia/Desktop/LLMs/ANN/ANN-project-Implementation/venv/lib/python3.11/site-packages/keras/src/utils/traceback_utils.py\", line 117, in error_handler\n\n  File \"/Users/dhaneshkumarkapadia/Desktop/LLMs/ANN/ANN-project-Implementation/venv/lib/python3.11/site-packages/keras/src/ops/operation.py\", line 58, in __call__\n\n  File \"/Users/dhaneshkumarkapadia/Desktop/LLMs/ANN/ANN-project-Implementation/venv/lib/python3.11/site-packages/keras/src/utils/traceback_utils.py\", line 156, in error_handler\n\n  File \"/Users/dhaneshkumarkapadia/Desktop/LLMs/ANN/ANN-project-Implementation/venv/lib/python3.11/site-packages/keras/src/layers/core/embedding.py\", line 150, in call\n\n  File \"/Users/dhaneshkumarkapadia/Desktop/LLMs/ANN/ANN-project-Implementation/venv/lib/python3.11/site-packages/keras/src/ops/numpy.py\", line 5581, in take\n\n  File \"/Users/dhaneshkumarkapadia/Desktop/LLMs/ANN/ANN-project-Implementation/venv/lib/python3.11/site-packages/keras/src/backend/tensorflow/numpy.py\", line 2274, in take\n\nindices[0,497] = 88131 is not in [0, 10000)\n\t [[{{node sequential_1/embedding_1/GatherV2}}]] [Op:__inference_one_step_on_data_distributed_626]",
     "output_type": "error",
     "traceback": [
      "\u001b[31m---------------------------------------------------------------------------\u001b[39m",
      "\u001b[31mInvalidArgumentError\u001b[39m                      Traceback (most recent call last)",
      "\u001b[36mCell\u001b[39m\u001b[36m \u001b[39m\u001b[32mIn[30]\u001b[39m\u001b[32m, line 1\u001b[39m\n\u001b[32m----> \u001b[39m\u001b[32m1\u001b[39m sentiment, prob = \u001b[43mpredict_sentiment\u001b[49m\u001b[43m(\u001b[49m\u001b[43mex\u001b[49m\u001b[43m)\u001b[49m\n\u001b[32m      2\u001b[39m \u001b[38;5;28mprint\u001b[39m(\u001b[33mf\u001b[39m\u001b[33m\"\u001b[39m\u001b[33mReview:\u001b[39m\u001b[38;5;132;01m{\u001b[39;00mex\u001b[38;5;132;01m}\u001b[39;00m\u001b[33m\"\u001b[39m)\n\u001b[32m      3\u001b[39m \u001b[38;5;28mprint\u001b[39m(\u001b[33mf\u001b[39m\u001b[33m\"\u001b[39m\u001b[33mSentiment:\u001b[39m\u001b[38;5;132;01m{\u001b[39;00msentiment\u001b[38;5;132;01m}\u001b[39;00m\u001b[33m\"\u001b[39m)\n",
      "\u001b[36mCell\u001b[39m\u001b[36m \u001b[39m\u001b[32mIn[22]\u001b[39m\u001b[32m, line 4\u001b[39m, in \u001b[36mpredict_sentiment\u001b[39m\u001b[34m(review)\u001b[39m\n\u001b[32m      2\u001b[39m \u001b[38;5;28;01mdef\u001b[39;00m\u001b[38;5;250m \u001b[39m\u001b[34mpredict_sentiment\u001b[39m(review):\n\u001b[32m      3\u001b[39m     preprocess_input=preprocess_text(review)\n\u001b[32m----> \u001b[39m\u001b[32m4\u001b[39m     pred =\u001b[43mmodel\u001b[49m\u001b[43m.\u001b[49m\u001b[43mpredict\u001b[49m\u001b[43m(\u001b[49m\u001b[43mpreprocess_input\u001b[49m\u001b[43m)\u001b[49m\n\u001b[32m      5\u001b[39m     sentiment = \u001b[33m\"\u001b[39m\u001b[33m+ve\u001b[39m\u001b[33m\"\u001b[39m \u001b[38;5;28;01mif\u001b[39;00m pred[\u001b[32m0\u001b[39m][\u001b[32m0\u001b[39m]>\u001b[32m0.5\u001b[39m \u001b[38;5;28;01melse\u001b[39;00m \u001b[33m\"\u001b[39m\u001b[33m-ve\u001b[39m\u001b[33m\"\u001b[39m\n\u001b[32m      6\u001b[39m     \u001b[38;5;28;01mreturn\u001b[39;00m sentiment, pred[\u001b[32m0\u001b[39m][\u001b[32m0\u001b[39m]\n",
      "\u001b[36mFile \u001b[39m\u001b[32m~/Desktop/LLMs/ANN/ANN-project-Implementation/venv/lib/python3.11/site-packages/keras/src/utils/traceback_utils.py:122\u001b[39m, in \u001b[36mfilter_traceback.<locals>.error_handler\u001b[39m\u001b[34m(*args, **kwargs)\u001b[39m\n\u001b[32m    119\u001b[39m     filtered_tb = _process_traceback_frames(e.__traceback__)\n\u001b[32m    120\u001b[39m     \u001b[38;5;66;03m# To get the full stack trace, call:\u001b[39;00m\n\u001b[32m    121\u001b[39m     \u001b[38;5;66;03m# `keras.config.disable_traceback_filtering()`\u001b[39;00m\n\u001b[32m--> \u001b[39m\u001b[32m122\u001b[39m     \u001b[38;5;28;01mraise\u001b[39;00m e.with_traceback(filtered_tb) \u001b[38;5;28;01mfrom\u001b[39;00m\u001b[38;5;250m \u001b[39m\u001b[38;5;28;01mNone\u001b[39;00m\n\u001b[32m    123\u001b[39m \u001b[38;5;28;01mfinally\u001b[39;00m:\n\u001b[32m    124\u001b[39m     \u001b[38;5;28;01mdel\u001b[39;00m filtered_tb\n",
      "\u001b[36mFile \u001b[39m\u001b[32m~/Desktop/LLMs/ANN/ANN-project-Implementation/venv/lib/python3.11/site-packages/tensorflow/python/eager/execute.py:53\u001b[39m, in \u001b[36mquick_execute\u001b[39m\u001b[34m(op_name, num_outputs, inputs, attrs, ctx, name)\u001b[39m\n\u001b[32m     51\u001b[39m \u001b[38;5;28;01mtry\u001b[39;00m:\n\u001b[32m     52\u001b[39m   ctx.ensure_initialized()\n\u001b[32m---> \u001b[39m\u001b[32m53\u001b[39m   tensors = pywrap_tfe.TFE_Py_Execute(ctx._handle, device_name, op_name,\n\u001b[32m     54\u001b[39m                                       inputs, attrs, num_outputs)\n\u001b[32m     55\u001b[39m \u001b[38;5;28;01mexcept\u001b[39;00m core._NotOkStatusException \u001b[38;5;28;01mas\u001b[39;00m e:\n\u001b[32m     56\u001b[39m   \u001b[38;5;28;01mif\u001b[39;00m name \u001b[38;5;129;01mis\u001b[39;00m \u001b[38;5;129;01mnot\u001b[39;00m \u001b[38;5;28;01mNone\u001b[39;00m:\n",
      "\u001b[31mInvalidArgumentError\u001b[39m: Graph execution error:\n\nDetected at node sequential_1/embedding_1/GatherV2 defined at (most recent call last):\n  File \"<frozen runpy>\", line 198, in _run_module_as_main\n\n  File \"<frozen runpy>\", line 88, in _run_code\n\n  File \"/Users/dhaneshkumarkapadia/Desktop/LLMs/ANN/ANN-project-Implementation/venv/lib/python3.11/site-packages/ipykernel_launcher.py\", line 18, in <module>\n\n  File \"/Users/dhaneshkumarkapadia/Desktop/LLMs/ANN/ANN-project-Implementation/venv/lib/python3.11/site-packages/traitlets/config/application.py\", line 1075, in launch_instance\n\n  File \"/Users/dhaneshkumarkapadia/Desktop/LLMs/ANN/ANN-project-Implementation/venv/lib/python3.11/site-packages/ipykernel/kernelapp.py\", line 739, in start\n\n  File \"/Users/dhaneshkumarkapadia/Desktop/LLMs/ANN/ANN-project-Implementation/venv/lib/python3.11/site-packages/tornado/platform/asyncio.py\", line 211, in start\n\n  File \"/Users/dhaneshkumarkapadia/Desktop/LLMs/ANN/ANN-project-Implementation/venv/lib/python3.11/asyncio/base_events.py\", line 604, in run_forever\n\n  File \"/Users/dhaneshkumarkapadia/Desktop/LLMs/ANN/ANN-project-Implementation/venv/lib/python3.11/asyncio/base_events.py\", line 1909, in _run_once\n\n  File \"/Users/dhaneshkumarkapadia/Desktop/LLMs/ANN/ANN-project-Implementation/venv/lib/python3.11/asyncio/events.py\", line 80, in _run\n\n  File \"/Users/dhaneshkumarkapadia/Desktop/LLMs/ANN/ANN-project-Implementation/venv/lib/python3.11/site-packages/ipykernel/kernelbase.py\", line 516, in dispatch_queue\n\n  File \"/Users/dhaneshkumarkapadia/Desktop/LLMs/ANN/ANN-project-Implementation/venv/lib/python3.11/site-packages/ipykernel/kernelbase.py\", line 505, in process_one\n\n  File \"/Users/dhaneshkumarkapadia/Desktop/LLMs/ANN/ANN-project-Implementation/venv/lib/python3.11/site-packages/ipykernel/kernelbase.py\", line 397, in dispatch_shell\n\n  File \"/Users/dhaneshkumarkapadia/Desktop/LLMs/ANN/ANN-project-Implementation/venv/lib/python3.11/site-packages/ipykernel/ipkernel.py\", line 368, in execute_request\n\n  File \"/Users/dhaneshkumarkapadia/Desktop/LLMs/ANN/ANN-project-Implementation/venv/lib/python3.11/site-packages/ipykernel/kernelbase.py\", line 752, in execute_request\n\n  File \"/Users/dhaneshkumarkapadia/Desktop/LLMs/ANN/ANN-project-Implementation/venv/lib/python3.11/site-packages/ipykernel/ipkernel.py\", line 455, in do_execute\n\n  File \"/Users/dhaneshkumarkapadia/Desktop/LLMs/ANN/ANN-project-Implementation/venv/lib/python3.11/site-packages/ipykernel/zmqshell.py\", line 577, in run_cell\n\n  File \"/Users/dhaneshkumarkapadia/Desktop/LLMs/ANN/ANN-project-Implementation/venv/lib/python3.11/site-packages/IPython/core/interactiveshell.py\", line 3116, in run_cell\n\n  File \"/Users/dhaneshkumarkapadia/Desktop/LLMs/ANN/ANN-project-Implementation/venv/lib/python3.11/site-packages/IPython/core/interactiveshell.py\", line 3171, in _run_cell\n\n  File \"/Users/dhaneshkumarkapadia/Desktop/LLMs/ANN/ANN-project-Implementation/venv/lib/python3.11/site-packages/IPython/core/async_helpers.py\", line 128, in _pseudo_sync_runner\n\n  File \"/Users/dhaneshkumarkapadia/Desktop/LLMs/ANN/ANN-project-Implementation/venv/lib/python3.11/site-packages/IPython/core/interactiveshell.py\", line 3394, in run_cell_async\n\n  File \"/Users/dhaneshkumarkapadia/Desktop/LLMs/ANN/ANN-project-Implementation/venv/lib/python3.11/site-packages/IPython/core/interactiveshell.py\", line 3639, in run_ast_nodes\n\n  File \"/Users/dhaneshkumarkapadia/Desktop/LLMs/ANN/ANN-project-Implementation/venv/lib/python3.11/site-packages/IPython/core/interactiveshell.py\", line 3699, in run_code\n\n  File \"/var/folders/qp/67f2dsgs4cq3m5kvr0hq47y40000gn/T/ipykernel_4803/534451187.py\", line 1, in <module>\n\n  File \"/var/folders/qp/67f2dsgs4cq3m5kvr0hq47y40000gn/T/ipykernel_4803/655380144.py\", line 4, in predict_sentiment\n\n  File \"/Users/dhaneshkumarkapadia/Desktop/LLMs/ANN/ANN-project-Implementation/venv/lib/python3.11/site-packages/keras/src/utils/traceback_utils.py\", line 117, in error_handler\n\n  File \"/Users/dhaneshkumarkapadia/Desktop/LLMs/ANN/ANN-project-Implementation/venv/lib/python3.11/site-packages/keras/src/backend/tensorflow/trainer.py\", line 566, in predict\n\n  File \"/Users/dhaneshkumarkapadia/Desktop/LLMs/ANN/ANN-project-Implementation/venv/lib/python3.11/site-packages/keras/src/backend/tensorflow/trainer.py\", line 260, in one_step_on_data_distributed\n\n  File \"/Users/dhaneshkumarkapadia/Desktop/LLMs/ANN/ANN-project-Implementation/venv/lib/python3.11/site-packages/keras/src/backend/tensorflow/trainer.py\", line 250, in one_step_on_data\n\n  File \"/Users/dhaneshkumarkapadia/Desktop/LLMs/ANN/ANN-project-Implementation/venv/lib/python3.11/site-packages/keras/src/backend/tensorflow/trainer.py\", line 105, in predict_step\n\n  File \"/Users/dhaneshkumarkapadia/Desktop/LLMs/ANN/ANN-project-Implementation/venv/lib/python3.11/site-packages/keras/src/utils/traceback_utils.py\", line 117, in error_handler\n\n  File \"/Users/dhaneshkumarkapadia/Desktop/LLMs/ANN/ANN-project-Implementation/venv/lib/python3.11/site-packages/keras/src/layers/layer.py\", line 936, in __call__\n\n  File \"/Users/dhaneshkumarkapadia/Desktop/LLMs/ANN/ANN-project-Implementation/venv/lib/python3.11/site-packages/keras/src/utils/traceback_utils.py\", line 117, in error_handler\n\n  File \"/Users/dhaneshkumarkapadia/Desktop/LLMs/ANN/ANN-project-Implementation/venv/lib/python3.11/site-packages/keras/src/ops/operation.py\", line 58, in __call__\n\n  File \"/Users/dhaneshkumarkapadia/Desktop/LLMs/ANN/ANN-project-Implementation/venv/lib/python3.11/site-packages/keras/src/utils/traceback_utils.py\", line 156, in error_handler\n\n  File \"/Users/dhaneshkumarkapadia/Desktop/LLMs/ANN/ANN-project-Implementation/venv/lib/python3.11/site-packages/keras/src/models/sequential.py\", line 220, in call\n\n  File \"/Users/dhaneshkumarkapadia/Desktop/LLMs/ANN/ANN-project-Implementation/venv/lib/python3.11/site-packages/keras/src/models/functional.py\", line 183, in call\n\n  File \"/Users/dhaneshkumarkapadia/Desktop/LLMs/ANN/ANN-project-Implementation/venv/lib/python3.11/site-packages/keras/src/ops/function.py\", line 177, in _run_through_graph\n\n  File \"/Users/dhaneshkumarkapadia/Desktop/LLMs/ANN/ANN-project-Implementation/venv/lib/python3.11/site-packages/keras/src/models/functional.py\", line 648, in call\n\n  File \"/Users/dhaneshkumarkapadia/Desktop/LLMs/ANN/ANN-project-Implementation/venv/lib/python3.11/site-packages/keras/src/utils/traceback_utils.py\", line 117, in error_handler\n\n  File \"/Users/dhaneshkumarkapadia/Desktop/LLMs/ANN/ANN-project-Implementation/venv/lib/python3.11/site-packages/keras/src/layers/layer.py\", line 936, in __call__\n\n  File \"/Users/dhaneshkumarkapadia/Desktop/LLMs/ANN/ANN-project-Implementation/venv/lib/python3.11/site-packages/keras/src/utils/traceback_utils.py\", line 117, in error_handler\n\n  File \"/Users/dhaneshkumarkapadia/Desktop/LLMs/ANN/ANN-project-Implementation/venv/lib/python3.11/site-packages/keras/src/ops/operation.py\", line 58, in __call__\n\n  File \"/Users/dhaneshkumarkapadia/Desktop/LLMs/ANN/ANN-project-Implementation/venv/lib/python3.11/site-packages/keras/src/utils/traceback_utils.py\", line 156, in error_handler\n\n  File \"/Users/dhaneshkumarkapadia/Desktop/LLMs/ANN/ANN-project-Implementation/venv/lib/python3.11/site-packages/keras/src/layers/core/embedding.py\", line 150, in call\n\n  File \"/Users/dhaneshkumarkapadia/Desktop/LLMs/ANN/ANN-project-Implementation/venv/lib/python3.11/site-packages/keras/src/ops/numpy.py\", line 5581, in take\n\n  File \"/Users/dhaneshkumarkapadia/Desktop/LLMs/ANN/ANN-project-Implementation/venv/lib/python3.11/site-packages/keras/src/backend/tensorflow/numpy.py\", line 2274, in take\n\nindices[0,497] = 88131 is not in [0, 10000)\n\t [[{{node sequential_1/embedding_1/GatherV2}}]] [Op:__inference_one_step_on_data_distributed_626]"
     ]
    }
   ],
   "source": [
    "sentiment, prob = predict_sentiment(ex)\n",
    "print(f\"Review:{ex}\")\n",
    "print(f\"Sentiment:{sentiment}\")\n",
    "print(f\"Prediction score:{prob}\")\n"
   ]
  },
  {
   "cell_type": "code",
   "execution_count": null,
   "id": "82867eb5",
   "metadata": {},
   "outputs": [],
   "source": []
  }
 ],
 "metadata": {
  "kernelspec": {
   "display_name": "Python 3",
   "language": "python",
   "name": "python3"
  },
  "language_info": {
   "codemirror_mode": {
    "name": "ipython",
    "version": 3
   },
   "file_extension": ".py",
   "mimetype": "text/x-python",
   "name": "python",
   "nbconvert_exporter": "python",
   "pygments_lexer": "ipython3",
   "version": "3.11.0"
  }
 },
 "nbformat": 4,
 "nbformat_minor": 5
}
