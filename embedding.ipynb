{
 "cells": [
  {
   "cell_type": "code",
   "execution_count": 1,
   "id": "952f29d6",
   "metadata": {},
   "outputs": [],
   "source": [
    "from tensorflow.keras.preprocessing.text import one_hot\n",
    "#sentesncs\n",
    "sent =[\n",
    "    'the glass of milk',\n",
    "    'the glass of juice',\n",
    "    'the cup of tea',\n",
    "    'I am a good boy',\n",
    "    'I am a good developer',\n",
    "    'understanding the meaning of words',\n",
    "    'your videos are good',\n",
    "]"
   ]
  },
  {
   "cell_type": "code",
   "execution_count": 2,
   "id": "7ae1ef17",
   "metadata": {},
   "outputs": [
    {
     "data": {
      "text/plain": [
       "[[2585, 5487, 2686, 9483],\n",
       " [2585, 5487, 2686, 8265],\n",
       " [2585, 4903, 2686, 8662],\n",
       " [2000, 165, 5370, 8424, 7242],\n",
       " [2000, 165, 5370, 8424, 6876],\n",
       " [7405, 2585, 2388, 2686, 3884],\n",
       " [4094, 3872, 9525, 8424]]"
      ]
     },
     "execution_count": 2,
     "metadata": {},
     "output_type": "execute_result"
    }
   ],
   "source": [
    "#Define the vocabukary size\n",
    "voc_size =10000\n",
    "#one_hot representation\n",
    "one_hot_repr=[one_hot(words, voc_size)for words in sent]\n",
    "one_hot_repr\n"
   ]
  },
  {
   "cell_type": "code",
   "execution_count": 7,
   "id": "0a1b8e19",
   "metadata": {},
   "outputs": [],
   "source": [
    "#word embedding representation\n",
    "\n",
    "from tensorflow.keras.layers import Embedding\n",
    "#from tensorflow.keras.preprocessing.sequence import pad_sequences\n",
    "from tensorflow.keras.utils import pad_sequences\n",
    "from tensorflow.keras.models import Sequential\n",
    "import numpy as np\n"
   ]
  },
  {
   "cell_type": "code",
   "execution_count": null,
   "id": "2db2324e",
   "metadata": {},
   "outputs": [],
   "source": [
    "sent_len = 8"
   ]
  }
 ],
 "metadata": {
  "kernelspec": {
   "display_name": "Python 3",
   "language": "python",
   "name": "python3"
  },
  "language_info": {
   "codemirror_mode": {
    "name": "ipython",
    "version": 3
   },
   "file_extension": ".py",
   "mimetype": "text/x-python",
   "name": "python",
   "nbconvert_exporter": "python",
   "pygments_lexer": "ipython3",
   "version": "3.11.0"
  }
 },
 "nbformat": 4,
 "nbformat_minor": 5
}
